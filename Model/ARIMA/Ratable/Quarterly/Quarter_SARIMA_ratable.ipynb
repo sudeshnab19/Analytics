{
 "cells": [
  {
   "cell_type": "code",
   "execution_count": 243,
   "id": "ffef4603",
   "metadata": {},
   "outputs": [],
   "source": [
    "import numpy as np\n",
    "import pandas as pd\n",
    "\n",
    "import matplotlib.pyplot as plt\n",
    "%matplotlib inline"
   ]
  },
  {
   "cell_type": "code",
   "execution_count": 244,
   "id": "de3cc3e2",
   "metadata": {},
   "outputs": [],
   "source": [
    "df = pd.read_excel('QuarterData.xlsx')"
   ]
  },
  {
   "cell_type": "code",
   "execution_count": 245,
   "id": "4b308871",
   "metadata": {},
   "outputs": [
    {
     "name": "stdout",
     "output_type": "stream",
     "text": [
      "     Quarter   Ratable\n",
      "0 2021-08-01  0.556026\n",
      "1 2021-10-30  0.561657\n",
      "2 2022-01-28  0.548109\n",
      "3 2022-04-28  0.572134\n",
      "4 2022-07-27  0.580511\n",
      "5 2022-10-25  0.605181\n",
      "6 2023-01-23  0.600416\n",
      "7 2023-04-23  0.634906\n"
     ]
    }
   ],
   "source": [
    "print(df)"
   ]
  },
  {
   "cell_type": "code",
   "execution_count": 246,
   "id": "ffac60c6",
   "metadata": {},
   "outputs": [
    {
     "data": {
      "text/html": [
       "<div>\n",
       "<style scoped>\n",
       "    .dataframe tbody tr th:only-of-type {\n",
       "        vertical-align: middle;\n",
       "    }\n",
       "\n",
       "    .dataframe tbody tr th {\n",
       "        vertical-align: top;\n",
       "    }\n",
       "\n",
       "    .dataframe thead th {\n",
       "        text-align: right;\n",
       "    }\n",
       "</style>\n",
       "<table border=\"1\" class=\"dataframe\">\n",
       "  <thead>\n",
       "    <tr style=\"text-align: right;\">\n",
       "      <th></th>\n",
       "      <th>Quarter</th>\n",
       "      <th>Ratable</th>\n",
       "    </tr>\n",
       "  </thead>\n",
       "  <tbody>\n",
       "    <tr>\n",
       "      <th>0</th>\n",
       "      <td>2021-08-01</td>\n",
       "      <td>0.556026</td>\n",
       "    </tr>\n",
       "    <tr>\n",
       "      <th>1</th>\n",
       "      <td>2021-10-30</td>\n",
       "      <td>0.561657</td>\n",
       "    </tr>\n",
       "    <tr>\n",
       "      <th>2</th>\n",
       "      <td>2022-01-28</td>\n",
       "      <td>0.548109</td>\n",
       "    </tr>\n",
       "    <tr>\n",
       "      <th>3</th>\n",
       "      <td>2022-04-28</td>\n",
       "      <td>0.572134</td>\n",
       "    </tr>\n",
       "    <tr>\n",
       "      <th>4</th>\n",
       "      <td>2022-07-27</td>\n",
       "      <td>0.580511</td>\n",
       "    </tr>\n",
       "  </tbody>\n",
       "</table>\n",
       "</div>"
      ],
      "text/plain": [
       "     Quarter   Ratable\n",
       "0 2021-08-01  0.556026\n",
       "1 2021-10-30  0.561657\n",
       "2 2022-01-28  0.548109\n",
       "3 2022-04-28  0.572134\n",
       "4 2022-07-27  0.580511"
      ]
     },
     "execution_count": 246,
     "metadata": {},
     "output_type": "execute_result"
    }
   ],
   "source": [
    "df.head()"
   ]
  },
  {
   "cell_type": "code",
   "execution_count": 247,
   "id": "db275669",
   "metadata": {},
   "outputs": [],
   "source": [
    "df.set_index('Quarter',inplace=True)"
   ]
  },
  {
   "cell_type": "code",
   "execution_count": 248,
   "id": "1ad5b448",
   "metadata": {},
   "outputs": [
    {
     "data": {
      "text/html": [
       "<div>\n",
       "<style scoped>\n",
       "    .dataframe tbody tr th:only-of-type {\n",
       "        vertical-align: middle;\n",
       "    }\n",
       "\n",
       "    .dataframe tbody tr th {\n",
       "        vertical-align: top;\n",
       "    }\n",
       "\n",
       "    .dataframe thead th {\n",
       "        text-align: right;\n",
       "    }\n",
       "</style>\n",
       "<table border=\"1\" class=\"dataframe\">\n",
       "  <thead>\n",
       "    <tr style=\"text-align: right;\">\n",
       "      <th></th>\n",
       "      <th>Ratable</th>\n",
       "    </tr>\n",
       "    <tr>\n",
       "      <th>Quarter</th>\n",
       "      <th></th>\n",
       "    </tr>\n",
       "  </thead>\n",
       "  <tbody>\n",
       "    <tr>\n",
       "      <th>2021-08-01</th>\n",
       "      <td>0.556026</td>\n",
       "    </tr>\n",
       "    <tr>\n",
       "      <th>2021-10-30</th>\n",
       "      <td>0.561657</td>\n",
       "    </tr>\n",
       "    <tr>\n",
       "      <th>2022-01-28</th>\n",
       "      <td>0.548109</td>\n",
       "    </tr>\n",
       "    <tr>\n",
       "      <th>2022-04-28</th>\n",
       "      <td>0.572134</td>\n",
       "    </tr>\n",
       "    <tr>\n",
       "      <th>2022-07-27</th>\n",
       "      <td>0.580511</td>\n",
       "    </tr>\n",
       "  </tbody>\n",
       "</table>\n",
       "</div>"
      ],
      "text/plain": [
       "             Ratable\n",
       "Quarter             \n",
       "2021-08-01  0.556026\n",
       "2021-10-30  0.561657\n",
       "2022-01-28  0.548109\n",
       "2022-04-28  0.572134\n",
       "2022-07-27  0.580511"
      ]
     },
     "execution_count": 248,
     "metadata": {},
     "output_type": "execute_result"
    }
   ],
   "source": [
    "df.head()"
   ]
  },
  {
   "cell_type": "code",
   "execution_count": 249,
   "id": "747840d0",
   "metadata": {},
   "outputs": [
    {
     "data": {
      "text/html": [
       "<div>\n",
       "<style scoped>\n",
       "    .dataframe tbody tr th:only-of-type {\n",
       "        vertical-align: middle;\n",
       "    }\n",
       "\n",
       "    .dataframe tbody tr th {\n",
       "        vertical-align: top;\n",
       "    }\n",
       "\n",
       "    .dataframe thead th {\n",
       "        text-align: right;\n",
       "    }\n",
       "</style>\n",
       "<table border=\"1\" class=\"dataframe\">\n",
       "  <thead>\n",
       "    <tr style=\"text-align: right;\">\n",
       "      <th></th>\n",
       "      <th>Ratable</th>\n",
       "    </tr>\n",
       "  </thead>\n",
       "  <tbody>\n",
       "    <tr>\n",
       "      <th>count</th>\n",
       "      <td>8.000000</td>\n",
       "    </tr>\n",
       "    <tr>\n",
       "      <th>mean</th>\n",
       "      <td>0.582367</td>\n",
       "    </tr>\n",
       "    <tr>\n",
       "      <th>std</th>\n",
       "      <td>0.029304</td>\n",
       "    </tr>\n",
       "    <tr>\n",
       "      <th>min</th>\n",
       "      <td>0.548109</td>\n",
       "    </tr>\n",
       "    <tr>\n",
       "      <th>25%</th>\n",
       "      <td>0.560249</td>\n",
       "    </tr>\n",
       "    <tr>\n",
       "      <th>50%</th>\n",
       "      <td>0.576323</td>\n",
       "    </tr>\n",
       "    <tr>\n",
       "      <th>75%</th>\n",
       "      <td>0.601607</td>\n",
       "    </tr>\n",
       "    <tr>\n",
       "      <th>max</th>\n",
       "      <td>0.634906</td>\n",
       "    </tr>\n",
       "  </tbody>\n",
       "</table>\n",
       "</div>"
      ],
      "text/plain": [
       "        Ratable\n",
       "count  8.000000\n",
       "mean   0.582367\n",
       "std    0.029304\n",
       "min    0.548109\n",
       "25%    0.560249\n",
       "50%    0.576323\n",
       "75%    0.601607\n",
       "max    0.634906"
      ]
     },
     "execution_count": 249,
     "metadata": {},
     "output_type": "execute_result"
    }
   ],
   "source": [
    "df.describe()"
   ]
  },
  {
   "cell_type": "code",
   "execution_count": 250,
   "id": "a5f21fb3",
   "metadata": {},
   "outputs": [
    {
     "data": {
      "text/plain": [
       "<Axes: xlabel='Quarter'>"
      ]
     },
     "execution_count": 250,
     "metadata": {},
     "output_type": "execute_result"
    },
    {
     "data": {
      "image/png": "[encoded data removed]",
      "text/plain": [
       "<Figure size 640x480 with 1 Axes>"
      ]
     },
     "metadata": {},
     "output_type": "display_data"
    }
   ],
   "source": [
    "#Step 2. Visualize the Data\n",
    "df.plot()"
   ]
  },
  {
   "cell_type": "code",
   "execution_count": 251,
   "id": "aafe14ea",
   "metadata": {},
   "outputs": [
    {
     "data": {
      "image/png": "[encoded data removed]",
      "text/plain": [
       "<Figure size 1200x600 with 2 Axes>"
      ]
     },
     "metadata": {},
     "output_type": "display_data"
    }
   ],
   "source": [
    "from statsmodels.graphics.tsaplots import plot_acf, plot_pacf\n",
    "#ACF plot- Autocorrelation function to get the p value i.e. Max value after which it diminishes (has to be integer)\n",
    "plt.figure(figsize =(12,6))\n",
    "plt.subplot(1,2,1)# grid size\n",
    "plot_acf(df,lags=7, ax=plt.gca()) #display auto correlation values for the first 7 lags \n",
    "plt.title('ACF Plot')\n",
    "\n",
    "#PACF plot-Partial Autocorrelation to get the q value i.e. Max value after which it diminishes (has to be integer)\n",
    "plt.subplot(1,2,2)# grid size\n",
    "plot_acf(df,lags=7, ax=plt.gca()) #display auto correlation values for the first 7 lags \n",
    "plt.title('PACF Plot')\n",
    "\n",
    "plt.tight_layout()\n",
    "plt.show()"
   ]
  },
  {
   "cell_type": "code",
   "execution_count": 252,
   "id": "1476d5a8",
   "metadata": {},
   "outputs": [],
   "source": [
    "###Testing for Stationarity\n",
    "\n",
    "from statsmodels.tsa.stattools import adfuller"
   ]
  },
  {
   "cell_type": "code",
   "execution_count": 253,
   "id": "d716783c",
   "metadata": {},
   "outputs": [],
   "source": [
    "#Null Hypo: It is non stationary\n",
    "#Alternate Hypo: It is stationary\n",
    "#95% CI considered\n",
    "\n",
    "def adfuller_test(Ratable):\n",
    "    result=adfuller(Ratable)\n",
    "    labels=['ADF Test Statistic','p-value','#Lags Used','Number of Observations Used']\n",
    "    for value, label in zip(result,labels):\n",
    "        print(label+':'+str(value))\n",
    "    if result[1] <=.05:\n",
    "        print(\"Strong evidence against null hypo\")\n",
    "    else:\n",
    "        print(\"Weak evidence against null hypo\")"
   ]
  },
  {
   "cell_type": "code",
   "execution_count": 254,
   "id": "92b07c01",
   "metadata": {
    "scrolled": true
   },
   "outputs": [
    {
     "name": "stdout",
     "output_type": "stream",
     "text": [
      "ADF Test Statistic:0.8832545190610718\n",
      "p-value:0.9928678554409167\n",
      "#Lags Used:1\n",
      "Number of Observations Used:6\n",
      "Weak evidence against null hypo\n"
     ]
    }
   ],
   "source": [
    "adfuller_test(df['Ratable'])"
   ]
  },
  {
   "cell_type": "code",
   "execution_count": 255,
   "id": "dfb37e1e",
   "metadata": {},
   "outputs": [],
   "source": [
    "#### If it is non stationary we have to make it Stationary\n",
    "### Differencing and seasonality 1 is considered\n",
    "df['Seasonal First Difference']=df['Ratable']-df['Ratable'].shift(1)"
   ]
  },
  {
   "cell_type": "code",
   "execution_count": 256,
   "id": "5d36466b",
   "metadata": {},
   "outputs": [
    {
     "data": {
      "text/html": [
       "<div>\n",
       "<style scoped>\n",
       "    .dataframe tbody tr th:only-of-type {\n",
       "        vertical-align: middle;\n",
       "    }\n",
       "\n",
       "    .dataframe tbody tr th {\n",
       "        vertical-align: top;\n",
       "    }\n",
       "\n",
       "    .dataframe thead th {\n",
       "        text-align: right;\n",
       "    }\n",
       "</style>\n",
       "<table border=\"1\" class=\"dataframe\">\n",
       "  <thead>\n",
       "    <tr style=\"text-align: right;\">\n",
       "      <th></th>\n",
       "      <th>Ratable</th>\n",
       "      <th>Seasonal First Difference</th>\n",
       "    </tr>\n",
       "    <tr>\n",
       "      <th>Quarter</th>\n",
       "      <th></th>\n",
       "      <th></th>\n",
       "    </tr>\n",
       "  </thead>\n",
       "  <tbody>\n",
       "    <tr>\n",
       "      <th>2021-08-01</th>\n",
       "      <td>0.556026</td>\n",
       "      <td>NaN</td>\n",
       "    </tr>\n",
       "    <tr>\n",
       "      <th>2021-10-30</th>\n",
       "      <td>0.561657</td>\n",
       "      <td>0.005631</td>\n",
       "    </tr>\n",
       "    <tr>\n",
       "      <th>2022-01-28</th>\n",
       "      <td>0.548109</td>\n",
       "      <td>-0.013548</td>\n",
       "    </tr>\n",
       "    <tr>\n",
       "      <th>2022-04-28</th>\n",
       "      <td>0.572134</td>\n",
       "      <td>0.024026</td>\n",
       "    </tr>\n",
       "    <tr>\n",
       "      <th>2022-07-27</th>\n",
       "      <td>0.580511</td>\n",
       "      <td>0.008377</td>\n",
       "    </tr>\n",
       "    <tr>\n",
       "      <th>2022-10-25</th>\n",
       "      <td>0.605181</td>\n",
       "      <td>0.024670</td>\n",
       "    </tr>\n",
       "    <tr>\n",
       "      <th>2023-01-23</th>\n",
       "      <td>0.600416</td>\n",
       "      <td>-0.004765</td>\n",
       "    </tr>\n",
       "    <tr>\n",
       "      <th>2023-04-23</th>\n",
       "      <td>0.634906</td>\n",
       "      <td>0.034490</td>\n",
       "    </tr>\n",
       "  </tbody>\n",
       "</table>\n",
       "</div>"
      ],
      "text/plain": [
       "             Ratable  Seasonal First Difference\n",
       "Quarter                                        \n",
       "2021-08-01  0.556026                        NaN\n",
       "2021-10-30  0.561657                   0.005631\n",
       "2022-01-28  0.548109                  -0.013548\n",
       "2022-04-28  0.572134                   0.024026\n",
       "2022-07-27  0.580511                   0.008377\n",
       "2022-10-25  0.605181                   0.024670\n",
       "2023-01-23  0.600416                  -0.004765\n",
       "2023-04-23  0.634906                   0.034490"
      ]
     },
     "execution_count": 256,
     "metadata": {},
     "output_type": "execute_result"
    }
   ],
   "source": [
    "df"
   ]
  },
  {
   "cell_type": "code",
   "execution_count": 257,
   "id": "67b27ac6",
   "metadata": {},
   "outputs": [
    {
     "name": "stdout",
     "output_type": "stream",
     "text": [
      "ADF Test Statistic:-3.376610638165261\n",
      "p-value:0.011782529200402346\n",
      "#Lags Used:0\n",
      "Number of Observations Used:6\n",
      "Strong evidence against null hypo\n"
     ]
    }
   ],
   "source": [
    "### Again performing adfuller_test\n",
    "adfuller_test(df['Seasonal First Difference'].dropna())"
   ]
  },
  {
   "cell_type": "code",
   "execution_count": 258,
   "id": "f4bfe8d8",
   "metadata": {},
   "outputs": [
    {
     "data": {
      "text/plain": [
       "<Axes: xlabel='Quarter'>"
      ]
     },
     "execution_count": 258,
     "metadata": {},
     "output_type": "execute_result"
    },
    {
     "data": {
      "image/png": "[encoded data removed]",
      "text/plain": [
       "<Figure size 640x480 with 1 Axes>"
      ]
     },
     "metadata": {},
     "output_type": "display_data"
    }
   ],
   "source": [
    "### Plotting the graph\n",
    "df['Seasonal First Difference'].plot()"
   ]
  },
  {
   "cell_type": "code",
   "execution_count": 259,
   "id": "f9c8b830",
   "metadata": {},
   "outputs": [
    {
     "name": "stderr",
     "output_type": "stream",
     "text": [
      "/opt/anaconda3/lib/python3.11/site-packages/statsmodels/tsa/base/tsa_model.py:473: ValueWarning: No frequency information was provided, so inferred frequency 90D will be used.\n",
      "  self._init_dates(dates, freq)\n",
      "/opt/anaconda3/lib/python3.11/site-packages/statsmodels/tsa/base/tsa_model.py:473: ValueWarning: No frequency information was provided, so inferred frequency 90D will be used.\n",
      "  self._init_dates(dates, freq)\n"
     ]
    }
   ],
   "source": [
    "### For seasonal data, seasonality 4\n",
    "from statsmodels.tsa.arima_model import ARIMA\n",
    "import statsmodels.api as sm\n",
    "model=sm.tsa.statespace.SARIMAX(df['Ratable'],order=(1,1,1),seasonal_order=(1,1,1,4))"
   ]
  },
  {
   "cell_type": "code",
   "execution_count": 260,
   "id": "ca3bbcba",
   "metadata": {},
   "outputs": [
    {
     "name": "stdout",
     "output_type": "stream",
     "text": [
      "RUNNING THE L-BFGS-B CODE\n",
      "\n",
      "           * * *\n",
      "\n",
      "Machine precision = 2.220D-16\n",
      " N =            5     M =           10\n",
      "\n",
      "At X0         0 variables are exactly at the bounds\n",
      "\n",
      "At iterate    0    f=  5.32438D-01    |proj g|=  1.06722D+03\n",
      "\n",
      "At iterate    5    f= -1.08177D+00    |proj g|=  2.45119D-01\n",
      "\n",
      "At iterate   10    f= -1.08569D+00    |proj g|=  4.17816D+00\n",
      "\n",
      "At iterate   15    f= -1.17327D+00    |proj g|=  3.99545D-01\n",
      "  ys=-5.587E-11  -gs= 2.603E-10 BFGS update SKIPPED\n",
      "\n",
      "           * * *\n",
      "\n",
      "Tit   = total number of iterations\n",
      "Tnf   = total number of function evaluations\n",
      "Tnint = total number of segments explored during Cauchy searches\n",
      "Skip  = number of BFGS updates skipped\n",
      "Nact  = number of active bounds at final generalized Cauchy point\n",
      "Projg = norm of the final projected gradient\n",
      "F     = final function value\n",
      "\n",
      "           * * *\n",
      "\n",
      "   N    Tit     Tnf  Tnint  Skip  Nact     Projg        F\n",
      "    5     17     69      1     1     0   3.996D-01  -1.173D+00\n",
      "  F =  -1.1732717521406479     \n",
      "\n",
      "CONVERGENCE: REL_REDUCTION_OF_F_<=_FACTR*EPSMCH             \n"
     ]
    },
    {
     "name": "stderr",
     "output_type": "stream",
     "text": [
      "/opt/anaconda3/lib/python3.11/site-packages/statsmodels/tsa/statespace/sarimax.py:866: UserWarning: Too few observations to estimate starting parameters for ARMA and trend. All parameters except for variances will be set to zeros.\n",
      "  warn('Too few observations to estimate starting parameters%s.'\n",
      "/opt/anaconda3/lib/python3.11/site-packages/statsmodels/tsa/statespace/sarimax.py:866: UserWarning: Too few observations to estimate starting parameters for seasonal ARMA. All parameters except for variances will be set to zeros.\n",
      "  warn('Too few observations to estimate starting parameters%s.'\n",
      " This problem is unconstrained.\n",
      "\n",
      " Warning:  more than 10 function and gradient\n",
      "   evaluations in the last line search.  Termination\n",
      "   may possibly be caused by a bad search direction.\n"
     ]
    }
   ],
   "source": [
    "results=model.fit()"
   ]
  },
  {
   "cell_type": "code",
   "execution_count": 261,
   "id": "32aafeea",
   "metadata": {},
   "outputs": [
    {
     "data": {
      "text/plain": [
       "<Axes: xlabel='Quarter'>"
      ]
     },
     "execution_count": 261,
     "metadata": {},
     "output_type": "execute_result"
    },
    {
     "data": {
      "image/png": "[encoded data removed]",
      "text/plain": [
       "<Figure size 1200x800 with 1 Axes>"
      ]
     },
     "metadata": {},
     "output_type": "display_data"
    }
   ],
   "source": [
    "df['forecast']=results.predict(start=6, end = 8, dynamic=True) # testing the model performance with sample input i.e. first 5 values as input and predicting 6,7,8\n",
    "df[['Ratable','forecast']].plot(figsize=(12,8))\n",
    "#When setting dynamic=True in results.predict(start=6, end=8, dynamic=True), \n",
    "#it instructs the model to generate forecasts where each prediction is based \n",
    "#on the previously predicted value rather than the actual observed value, \n",
    "#essentially creating a \"rolling\" forecast where the model updates its predictions \n",
    "#as it moves through the time series, making it more responsive to recent changes in the data."
   ]
  },
  {
   "cell_type": "code",
   "execution_count": 264,
   "id": "90be2441",
   "metadata": {},
   "outputs": [],
   "source": [
    "### Predicting future forecast\n",
    "from pandas.tseries.offsets import DateOffset\n",
    "future_dates=[df.index[-1]+DateOffset(days=x)for x in range(90,451,90)]\n",
    "#Syntax: range(start, stop, step)\n",
    "#start: [ optional ] start value of the sequence- 90 days= 1 quarter\n",
    "#stop: next value after the end value of the sequence we want till 5 quarters hence 450, so 450+1\n",
    "#step: [ optional ] integer value, denoting the difference between any two numbers in the sequence i.e. 90 "
   ]
  },
  {
   "cell_type": "code",
   "execution_count": 265,
   "id": "95196f07",
   "metadata": {},
   "outputs": [
    {
     "data": {
      "text/plain": [
       "[Timestamp('2023-07-22 00:00:00'),\n",
       " Timestamp('2023-10-20 00:00:00'),\n",
       " Timestamp('2024-01-18 00:00:00'),\n",
       " Timestamp('2024-04-17 00:00:00'),\n",
       " Timestamp('2024-07-16 00:00:00')]"
      ]
     },
     "execution_count": 265,
     "metadata": {},
     "output_type": "execute_result"
    }
   ],
   "source": [
    "future_dates"
   ]
  },
  {
   "cell_type": "code",
   "execution_count": 266,
   "id": "434d9929",
   "metadata": {},
   "outputs": [],
   "source": [
    "future_dataset_df=pd.DataFrame(index=future_dates,columns=df.columns)\n",
    "future_dataset_df.index.name = 'Quarter'"
   ]
  },
  {
   "cell_type": "code",
   "execution_count": 267,
   "id": "c5f96593",
   "metadata": {
    "scrolled": false
   },
   "outputs": [
    {
     "data": {
      "text/html": [
       "<div>\n",
       "<style scoped>\n",
       "    .dataframe tbody tr th:only-of-type {\n",
       "        vertical-align: middle;\n",
       "    }\n",
       "\n",
       "    .dataframe tbody tr th {\n",
       "        vertical-align: top;\n",
       "    }\n",
       "\n",
       "    .dataframe thead th {\n",
       "        text-align: right;\n",
       "    }\n",
       "</style>\n",
       "<table border=\"1\" class=\"dataframe\">\n",
       "  <thead>\n",
       "    <tr style=\"text-align: right;\">\n",
       "      <th></th>\n",
       "      <th>Ratable</th>\n",
       "      <th>Seasonal First Difference</th>\n",
       "      <th>forecast</th>\n",
       "    </tr>\n",
       "    <tr>\n",
       "      <th>Quarter</th>\n",
       "      <th></th>\n",
       "      <th></th>\n",
       "      <th></th>\n",
       "    </tr>\n",
       "  </thead>\n",
       "  <tbody>\n",
       "    <tr>\n",
       "      <th>2023-07-22</th>\n",
       "      <td>NaN</td>\n",
       "      <td>NaN</td>\n",
       "      <td>NaN</td>\n",
       "    </tr>\n",
       "    <tr>\n",
       "      <th>2023-10-20</th>\n",
       "      <td>NaN</td>\n",
       "      <td>NaN</td>\n",
       "      <td>NaN</td>\n",
       "    </tr>\n",
       "    <tr>\n",
       "      <th>2024-01-18</th>\n",
       "      <td>NaN</td>\n",
       "      <td>NaN</td>\n",
       "      <td>NaN</td>\n",
       "    </tr>\n",
       "    <tr>\n",
       "      <th>2024-04-17</th>\n",
       "      <td>NaN</td>\n",
       "      <td>NaN</td>\n",
       "      <td>NaN</td>\n",
       "    </tr>\n",
       "    <tr>\n",
       "      <th>2024-07-16</th>\n",
       "      <td>NaN</td>\n",
       "      <td>NaN</td>\n",
       "      <td>NaN</td>\n",
       "    </tr>\n",
       "  </tbody>\n",
       "</table>\n",
       "</div>"
      ],
      "text/plain": [
       "           Ratable Seasonal First Difference forecast\n",
       "Quarter                                              \n",
       "2023-07-22     NaN                       NaN      NaN\n",
       "2023-10-20     NaN                       NaN      NaN\n",
       "2024-01-18     NaN                       NaN      NaN\n",
       "2024-04-17     NaN                       NaN      NaN\n",
       "2024-07-16     NaN                       NaN      NaN"
      ]
     },
     "execution_count": 267,
     "metadata": {},
     "output_type": "execute_result"
    }
   ],
   "source": [
    "future_dataset_df"
   ]
  },
  {
   "cell_type": "code",
   "execution_count": 268,
   "id": "5311d8e0",
   "metadata": {},
   "outputs": [
    {
     "data": {
      "text/html": [
       "<div>\n",
       "<style scoped>\n",
       "    .dataframe tbody tr th:only-of-type {\n",
       "        vertical-align: middle;\n",
       "    }\n",
       "\n",
       "    .dataframe tbody tr th {\n",
       "        vertical-align: top;\n",
       "    }\n",
       "\n",
       "    .dataframe thead th {\n",
       "        text-align: right;\n",
       "    }\n",
       "</style>\n",
       "<table border=\"1\" class=\"dataframe\">\n",
       "  <thead>\n",
       "    <tr style=\"text-align: right;\">\n",
       "      <th></th>\n",
       "      <th>Ratable</th>\n",
       "      <th>Seasonal First Difference</th>\n",
       "      <th>forecast</th>\n",
       "    </tr>\n",
       "    <tr>\n",
       "      <th>Quarter</th>\n",
       "      <th></th>\n",
       "      <th></th>\n",
       "      <th></th>\n",
       "    </tr>\n",
       "  </thead>\n",
       "  <tbody>\n",
       "    <tr>\n",
       "      <th>2023-07-22</th>\n",
       "      <td>0.0</td>\n",
       "      <td>0.0</td>\n",
       "      <td>0.0</td>\n",
       "    </tr>\n",
       "    <tr>\n",
       "      <th>2023-10-20</th>\n",
       "      <td>0.0</td>\n",
       "      <td>0.0</td>\n",
       "      <td>0.0</td>\n",
       "    </tr>\n",
       "    <tr>\n",
       "      <th>2024-01-18</th>\n",
       "      <td>0.0</td>\n",
       "      <td>0.0</td>\n",
       "      <td>0.0</td>\n",
       "    </tr>\n",
       "    <tr>\n",
       "      <th>2024-04-17</th>\n",
       "      <td>0.0</td>\n",
       "      <td>0.0</td>\n",
       "      <td>0.0</td>\n",
       "    </tr>\n",
       "    <tr>\n",
       "      <th>2024-07-16</th>\n",
       "      <td>0.0</td>\n",
       "      <td>0.0</td>\n",
       "      <td>0.0</td>\n",
       "    </tr>\n",
       "  </tbody>\n",
       "</table>\n",
       "</div>"
      ],
      "text/plain": [
       "            Ratable  Seasonal First Difference  forecast\n",
       "Quarter                                                 \n",
       "2023-07-22      0.0                        0.0       0.0\n",
       "2023-10-20      0.0                        0.0       0.0\n",
       "2024-01-18      0.0                        0.0       0.0\n",
       "2024-04-17      0.0                        0.0       0.0\n",
       "2024-07-16      0.0                        0.0       0.0"
      ]
     },
     "execution_count": 268,
     "metadata": {},
     "output_type": "execute_result"
    }
   ],
   "source": [
    "# fill NaN values with float\n",
    "future_dataset_df['Ratable']= future_dataset_df['Ratable'].fillna(0.0)\n",
    "future_dataset_df['Seasonal First Difference']= future_dataset_df['Seasonal First Difference'].fillna(0.0)\n",
    "future_dataset_df['forecast']= future_dataset_df['forecast'].fillna(0.0)\n",
    "future_dataset_df.head()"
   ]
  },
  {
   "cell_type": "code",
   "execution_count": 269,
   "id": "1b99a441",
   "metadata": {},
   "outputs": [
    {
     "name": "stdout",
     "output_type": "stream",
     "text": [
      "             Ratable  Seasonal First Difference  forecast\n",
      "Quarter                                                  \n",
      "2021-08-01  0.556026                        NaN       NaN\n",
      "2021-10-30  0.561657                   0.005631       NaN\n",
      "2022-01-28  0.548109                  -0.013548       NaN\n",
      "2022-04-28  0.572134                   0.024026       NaN\n",
      "2022-07-27  0.580511                   0.008377       NaN\n",
      "2022-10-25  0.605181                   0.024670       NaN\n",
      "2023-01-23  0.600416                  -0.004765  0.605306\n",
      "2023-04-23  0.634906                   0.034490  0.636240\n",
      "2023-07-22  0.000000                   0.000000  0.000000\n",
      "2023-10-20  0.000000                   0.000000  0.000000\n",
      "2024-01-18  0.000000                   0.000000  0.000000\n",
      "2024-04-17  0.000000                   0.000000  0.000000\n",
      "2024-07-16  0.000000                   0.000000  0.000000\n"
     ]
    }
   ],
   "source": [
    "future_df=pd.concat([df,future_dataset_df])\n",
    "print(future_df)"
   ]
  },
  {
   "cell_type": "code",
   "execution_count": 270,
   "id": "c8730214",
   "metadata": {},
   "outputs": [
    {
     "data": {
      "image/png": "[encoded data removed]",
      "text/plain": [
       "<Figure size 800x500 with 1 Axes>"
      ]
     },
     "metadata": {},
     "output_type": "display_data"
    }
   ],
   "source": [
    "future_df['forecast']=results.predict(start=6, end=14, dynamic=True)\n",
    "# Plot the original and forecast values\n",
    "future_df[['Ratable', 'forecast']].plot(figsize=(8, 5))\n",
    "plt.title('Ratable vs Forecast')\n",
    "plt.show()"
   ]
  },
  {
   "cell_type": "code",
   "execution_count": 271,
   "id": "5b2842c8",
   "metadata": {},
   "outputs": [
    {
     "data": {
      "text/html": [
       "<div>\n",
       "<style scoped>\n",
       "    .dataframe tbody tr th:only-of-type {\n",
       "        vertical-align: middle;\n",
       "    }\n",
       "\n",
       "    .dataframe tbody tr th {\n",
       "        vertical-align: top;\n",
       "    }\n",
       "\n",
       "    .dataframe thead th {\n",
       "        text-align: right;\n",
       "    }\n",
       "</style>\n",
       "<table border=\"1\" class=\"dataframe\">\n",
       "  <thead>\n",
       "    <tr style=\"text-align: right;\">\n",
       "      <th></th>\n",
       "      <th>Ratable</th>\n",
       "      <th>Seasonal First Difference</th>\n",
       "      <th>forecast</th>\n",
       "    </tr>\n",
       "    <tr>\n",
       "      <th>Quarter</th>\n",
       "      <th></th>\n",
       "      <th></th>\n",
       "      <th></th>\n",
       "    </tr>\n",
       "  </thead>\n",
       "  <tbody>\n",
       "    <tr>\n",
       "      <th>2023-01-23</th>\n",
       "      <td>0.600416</td>\n",
       "      <td>-0.004765</td>\n",
       "      <td>0.605306</td>\n",
       "    </tr>\n",
       "    <tr>\n",
       "      <th>2023-04-23</th>\n",
       "      <td>0.634906</td>\n",
       "      <td>0.034490</td>\n",
       "      <td>0.636240</td>\n",
       "    </tr>\n",
       "    <tr>\n",
       "      <th>2023-07-22</th>\n",
       "      <td>0.000000</td>\n",
       "      <td>0.000000</td>\n",
       "      <td>0.648141</td>\n",
       "    </tr>\n",
       "    <tr>\n",
       "      <th>2023-10-20</th>\n",
       "      <td>0.000000</td>\n",
       "      <td>0.000000</td>\n",
       "      <td>0.674637</td>\n",
       "    </tr>\n",
       "    <tr>\n",
       "      <th>2024-01-18</th>\n",
       "      <td>0.000000</td>\n",
       "      <td>0.000000</td>\n",
       "      <td>0.675699</td>\n",
       "    </tr>\n",
       "    <tr>\n",
       "      <th>2024-04-17</th>\n",
       "      <td>0.000000</td>\n",
       "      <td>0.000000</td>\n",
       "      <td>0.707106</td>\n",
       "    </tr>\n",
       "    <tr>\n",
       "      <th>2024-07-16</th>\n",
       "      <td>0.000000</td>\n",
       "      <td>0.000000</td>\n",
       "      <td>0.719244</td>\n",
       "    </tr>\n",
       "  </tbody>\n",
       "</table>\n",
       "</div>"
      ],
      "text/plain": [
       "             Ratable  Seasonal First Difference  forecast\n",
       "Quarter                                                  \n",
       "2023-01-23  0.600416                  -0.004765  0.605306\n",
       "2023-04-23  0.634906                   0.034490  0.636240\n",
       "2023-07-22  0.000000                   0.000000  0.648141\n",
       "2023-10-20  0.000000                   0.000000  0.674637\n",
       "2024-01-18  0.000000                   0.000000  0.675699\n",
       "2024-04-17  0.000000                   0.000000  0.707106\n",
       "2024-07-16  0.000000                   0.000000  0.719244"
      ]
     },
     "execution_count": 271,
     "metadata": {},
     "output_type": "execute_result"
    }
   ],
   "source": [
    "#new datagrame created with non null values for forecast\n",
    "future_df1=future_df[future_df['forecast'].notna()]\n",
    "# check the forecast values along with the ratable rates for the last weeks\n",
    "future_df1"
   ]
  },
  {
   "cell_type": "code",
   "execution_count": 272,
   "id": "48202b0b",
   "metadata": {},
   "outputs": [
    {
     "name": "stdout",
     "output_type": "stream",
     "text": [
      "Yes the file is downloading...\n"
     ]
    }
   ],
   "source": [
    "# Save the new dataframe in the workbook\n",
    "from openpyxl import Workbook  # openpyxl helps to read and write data in excel\n",
    "future_df1_selected_cols=future_df1[['Ratable','forecast']]\n",
    "\n",
    "# Remove the time part from the index by formatting it as date only\n",
    "future_df1_selected_cols.index = future_df1_selected_cols.index.strftime('%Y-%m-%d')\n",
    "\n",
    "future_df1_selected_cols.to_excel('SARIMA_output_ratable_quarter.xlsx', index=True, engine='openpyxl')\n",
    "print('Yes the file is downloading...')"
   ]
  },
  {
   "cell_type": "code",
   "execution_count": 273,
   "id": "76e5e8a5",
   "metadata": {},
   "outputs": [
    {
     "name": "stdout",
     "output_type": "stream",
     "text": [
      "Yes the file is downloading...\n"
     ]
    }
   ],
   "source": [
    "### Draw Line chart graph in excel and save it.\n",
    "\n",
    "import xlsxwriter\n",
    "\n",
    "# Create an Excel writer object and use xlsxwriter as the engine\n",
    "with pd.ExcelWriter('SARIMA_output_ratable_quarter.xlsx', engine='xlsxwriter') as writer:\n",
    "    \n",
    "    \n",
    "    # Write the DataFrame to Excel\n",
    "    future_df1_selected_cols.to_excel(writer, sheet_name='Analysis', index=True)\n",
    "\n",
    "    # Access the workbook and worksheet objects\n",
    "    workbook = writer.book\n",
    "    worksheet = writer.sheets['Analysis']\n",
    "    \n",
    "    # Create a chart object (line chart)\n",
    "    chart = workbook.add_chart({'type': 'line'})\n",
    "\n",
    "    # Configure the first series (Actuals)\n",
    "    chart.add_series({\n",
    "        'name': 'Ratable',\n",
    "        'categories': ['Analysis', 1, 0, 8, 0],  # (sheet_name, start_row=1, start_col=0 always, end_row=42, end_col=0 always)\n",
    "        'values': ['Analysis', 1, 1, 8, 1],      # (sheet_name, start_row=1, start_col=1, end_row=42, end_col)\n",
    "    })\n",
    "\n",
    "    # Configure the second series (Forecast)\n",
    "    chart.add_series({\n",
    "        'name': 'forecast',\n",
    "        'categories': ['Analysis', 1, 0, 8, 0],  # Date column for categories\n",
    "        'values': ['Analysis', 1, 2, 8, 2],      # Forecast values (row 1 to 42, column 2)\n",
    "    })\n",
    "\n",
    "    # Add a chart title and axis labels\n",
    "    chart.set_title({'name': 'Actuals vs Forecast'})\n",
    "    chart.set_x_axis({'name': 'Quarter'})\n",
    "    chart.set_y_axis({'name': 'Values'})\n",
    "    \n",
    "    # Set a fixed size for the chart (width and height in pixels)\n",
    "    chart.set_size({'width': 1000, 'height': 600})  # You can adjust these values\n",
    "    \n",
    "    # Insert the chart into the worksheet\n",
    "    worksheet.insert_chart('E2', chart)\n",
    "    \n",
    "    print('Yes the file is downloading...')"
   ]
  },
  {
   "cell_type": "code",
   "execution_count": null,
   "id": "ab43e462",
   "metadata": {},
   "outputs": [],
   "source": []
  }
 ],
 "metadata": {
  "kernelspec": {
   "display_name": "Python 3 (ipykernel)",
   "language": "python",
   "name": "python3"
  },
  "language_info": {
   "codemirror_mode": {
    "name": "ipython",
    "version": 3
   },
   "file_extension": ".py",
   "mimetype": "text/x-python",
   "name": "python",
   "nbconvert_exporter": "python",
   "pygments_lexer": "ipython3",
   "version": "3.11.7"
  }
 },
 "nbformat": 4,
 "nbformat_minor": 5
}
