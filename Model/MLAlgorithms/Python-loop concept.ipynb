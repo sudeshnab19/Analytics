{
 "cells": [
  {
   "cell_type": "markdown",
   "id": "1cd08416",
   "metadata": {},
   "source": [
    "# Import Libraries to read the data and manipulate"
   ]
  },
  {
   "cell_type": "code",
   "execution_count": 17,
   "id": "6868a18c",
   "metadata": {},
   "outputs": [],
   "source": [
    "import pandas as pd\n",
    "import numpy as np"
   ]
  },
  {
   "cell_type": "markdown",
   "id": "7e5cf02c",
   "metadata": {},
   "source": [
    "# User enabled list with names and marks. 1st - no. of entries 2nd- names along marks"
   ]
  },
  {
   "cell_type": "code",
   "execution_count": 31,
   "id": "1957794c",
   "metadata": {},
   "outputs": [
    {
     "name": "stdout",
     "output_type": "stream",
     "text": [
      "2\n",
      "Please enter the names along with marks and a whitspace in between: wan 90\n",
      "Please enter the names along with marks and a whitspace in between: san 91\n",
      "2\n",
      "[['wan', '90'], ['san', '91']]\n"
     ]
    }
   ],
   "source": [
    "counter=int(input())\n",
    "j=0\n",
    "list_names=[]\n",
    "for j in range(counter):\n",
    "    names_marks=input(\"Please enter the names along with marks and a whitspace in between: \").split()\n",
    "    list_names.append(names_marks)\n",
    "    j=j+1\n",
    "print(counter)\n",
    "A=print(list_names)\n"
   ]
  },
  {
   "cell_type": "markdown",
   "id": "60b1ac7c",
   "metadata": {},
   "source": [
    "# convert marks from string to integer"
   ]
  },
  {
   "cell_type": "code",
   "execution_count": 32,
   "id": "0c9c674d",
   "metadata": {},
   "outputs": [
    {
     "name": "stdout",
     "output_type": "stream",
     "text": [
      "[['wan', 90], ['san', 91]]\n"
     ]
    }
   ],
   "source": [
    "\n",
    "# Convert marks from string to integer\n",
    "for item in list_names:\n",
    "    item[1] = int(item[1])  # Convert the second element (marks) to an integer\n",
    "\n",
    "# Output the modified list to confirm the conversion\n",
    "print(list_names)"
   ]
  },
  {
   "cell_type": "markdown",
   "id": "a87f31fe",
   "metadata": {},
   "source": [
    "# Make a list with the marks only to compare the lowest and highest"
   ]
  },
  {
   "cell_type": "code",
   "execution_count": 33,
   "id": "348c2f2b",
   "metadata": {},
   "outputs": [
    {
     "name": "stdout",
     "output_type": "stream",
     "text": [
      "[90, 91]\n"
     ]
    }
   ],
   "source": [
    "marks=[]\n",
    "for item in list_names:\n",
    "    marks.append(item[1])\n",
    "print(marks)"
   ]
  },
  {
   "cell_type": "markdown",
   "id": "a17b8693",
   "metadata": {},
   "source": [
    "# Find the lowest"
   ]
  },
  {
   "cell_type": "code",
   "execution_count": 34,
   "id": "9e7f95ce",
   "metadata": {},
   "outputs": [
    {
     "name": "stdout",
     "output_type": "stream",
     "text": [
      "90\n"
     ]
    }
   ],
   "source": [
    "lowest=marks[0]\n",
    "for i in marks:\n",
    "    if i<lowest:\n",
    "        lowest=i\n",
    "print(lowest)"
   ]
  },
  {
   "cell_type": "markdown",
   "id": "cbdef085",
   "metadata": {},
   "source": [
    "# Find the highest"
   ]
  },
  {
   "cell_type": "code",
   "execution_count": 35,
   "id": "d1d9ce55",
   "metadata": {},
   "outputs": [
    {
     "name": "stdout",
     "output_type": "stream",
     "text": [
      "91\n"
     ]
    }
   ],
   "source": [
    "highest=marks[0]\n",
    "for i in marks:\n",
    "    if i>highest:\n",
    "        highest=i\n",
    "print(highest)"
   ]
  }
 ],
 "metadata": {
  "kernelspec": {
   "display_name": "Python 3 (ipykernel)",
   "language": "python",
   "name": "python3"
  },
  "language_info": {
   "codemirror_mode": {
    "name": "ipython",
    "version": 3
   },
   "file_extension": ".py",
   "mimetype": "text/x-python",
   "name": "python",
   "nbconvert_exporter": "python",
   "pygments_lexer": "ipython3",
   "version": "3.11.7"
  }
 },
 "nbformat": 4,
 "nbformat_minor": 5
}
