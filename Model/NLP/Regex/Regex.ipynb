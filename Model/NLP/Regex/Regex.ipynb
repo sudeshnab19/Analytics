{
 "cells": [
  {
   "cell_type": "markdown",
   "id": "0558d358",
   "metadata": {},
   "source": [
    "# Regular Expression check regex101.com"
   ]
  },
  {
   "cell_type": "code",
   "execution_count": 2,
   "id": "91c839c3",
   "metadata": {},
   "outputs": [],
   "source": [
    "import re"
   ]
  },
  {
   "cell_type": "code",
   "execution_count": 35,
   "id": "c72dc9bb",
   "metadata": {},
   "outputs": [],
   "source": [
    "chat1='codebasics: Hello, I am having an issue with my order xyz@abc.com, 1245789034'\n",
    "chat2='codebasics: I have a problem with my order number (412)-889-9123, 1245789034'\n",
    "chat3='sudeshnab19@gmail.com'"
   ]
  },
  {
   "cell_type": "code",
   "execution_count": 25,
   "id": "1c3acdd9",
   "metadata": {},
   "outputs": [
    {
     "data": {
      "text/plain": [
       "['(412)-889-9123', '1245789034']"
      ]
     },
     "execution_count": 25,
     "metadata": {},
     "output_type": "execute_result"
    }
   ],
   "source": [
    "pattern='\\d{10}|\\(\\d{3}\\)-\\d{3}-\\d{4}'\n",
    "\n",
    "matches=re.findall(pattern,chat2)\n",
    "matches"
   ]
  },
  {
   "cell_type": "code",
   "execution_count": 31,
   "id": "65b35637",
   "metadata": {},
   "outputs": [
    {
     "data": {
      "text/plain": [
       "['xyz@abc.com']"
      ]
     },
     "execution_count": 31,
     "metadata": {},
     "output_type": "execute_result"
    }
   ],
   "source": [
    "patternmail='[a-z]{3,20}\\@[a-z]{3,10}\\.[a-z]{3}'\n",
    "match=re.findall(patternmail,chat1)\n",
    "match"
   ]
  },
  {
   "cell_type": "markdown",
   "id": "e529d7e8",
   "metadata": {},
   "source": [
    "# How the regex pattern works ? Let's decode below code\n",
    "\n",
    "# [a-z]{3,20}-> minimum 3 or maximum 20 characters will be between a to z\n",
    "# \\d{2}-> exactly 2 digits between o to 9\n",
    "# \\@-> show @\n",
    "# [a-z]{3,10}-> minimum 3 or maximum 10 characters will be between a to z\n",
    "# \\.-> show .\n",
    "# [a-z]{3}-> exactly 3 characters between a to z "
   ]
  },
  {
   "cell_type": "code",
   "execution_count": 36,
   "id": "eaa95c7b",
   "metadata": {},
   "outputs": [
    {
     "data": {
      "text/plain": [
       "['sudeshnab19@gmail.com']"
      ]
     },
     "execution_count": 36,
     "metadata": {},
     "output_type": "execute_result"
    }
   ],
   "source": [
    "patternmail='[a-z]{3,20}\\d{2}\\@[a-z]{3,10}\\.[a-z]{3}'\n",
    "match1=re.findall(patternmail,chat3)\n",
    "match1"
   ]
  },
  {
   "cell_type": "markdown",
   "id": "f23161f2",
   "metadata": {},
   "source": [
    "# [a-zA-Z0-9]* -> depicts word with lower case, upper case and 0 to 9 digits and * represents 0 or more sequence of characters"
   ]
  },
  {
   "cell_type": "code",
   "execution_count": 37,
   "id": "b4b7f844",
   "metadata": {},
   "outputs": [
    {
     "data": {
      "text/plain": [
       "['sudeshnab19@gmail.com']"
      ]
     },
     "execution_count": 37,
     "metadata": {},
     "output_type": "execute_result"
    }
   ],
   "source": [
    "patternmail='[a-zA-Z0-9]*\\@[a-z]*\\.[a-z]*'\n",
    "match1=re.findall(patternmail,chat3)\n",
    "match1"
   ]
  },
  {
   "cell_type": "code",
   "execution_count": 38,
   "id": "2c86c634",
   "metadata": {},
   "outputs": [],
   "source": [
    "chat4='codebasics: Hello, I am having an issue with my order # 412889912'"
   ]
  },
  {
   "cell_type": "markdown",
   "id": "27bfc6f0",
   "metadata": {},
   "source": [
    "# [^\\d]-> depicts any character other than digit \n",
    "# ([\\d]*)-> bracket signifies we are grouping the number part only from the serach"
   ]
  },
  {
   "cell_type": "code",
   "execution_count": 40,
   "id": "bd27d118",
   "metadata": {},
   "outputs": [
    {
     "data": {
      "text/plain": [
       "['412889912']"
      ]
     },
     "execution_count": 40,
     "metadata": {},
     "output_type": "execute_result"
    }
   ],
   "source": [
    "patternorder='order[^\\d]*([\\d]*)'\n",
    "\n",
    "match4=re.findall(patternorder, chat4)\n",
    "match4"
   ]
  },
  {
   "cell_type": "markdown",
   "id": "22b90b69",
   "metadata": {},
   "source": [
    "# Information Extraction"
   ]
  },
  {
   "cell_type": "code",
   "execution_count": 44,
   "id": "e8234c60",
   "metadata": {},
   "outputs": [],
   "source": [
    "text='''\n",
    "Born\tElon Reeve Musk\n",
    "June 28, 1971 (age 50)\n",
    "Pretoria, Transvaal, South Africa\n",
    "Citizenship\t\n",
    "South Africa (1971–present)\n",
    "Canada (1971–present)\n",
    "United States (2002–present)\n",
    "Education\tUniversity of Pennsylvania (BS, BA)\n",
    "Title\t\n",
    "Founder, CEO and Chief Engineer of SpaceX\n",
    "CEO and product architect of Tesla, Inc.\n",
    "Founder of The Boring Company and X.com (now part of PayPal)\n",
    "Co-founder of Neuralink, OpenAI, and Zip2\n",
    "Spouse(s)\t\n",
    "Justine Wilson\n",
    "​\n",
    "​(m. 2000; div. 2008)​\n",
    "Talulah Riley\n",
    "​\n",
    "​(m. 2010; div. 2012)​\n",
    "​\n",
    "​(m. 2013; div. 2016)\n",
    "'''"
   ]
  },
  {
   "cell_type": "code",
   "execution_count": 54,
   "id": "a90ff9f0",
   "metadata": {},
   "outputs": [
    {
     "data": {
      "text/plain": [
       "['50']"
      ]
     },
     "execution_count": 54,
     "metadata": {},
     "output_type": "execute_result"
    }
   ],
   "source": [
    "patternage= 'age[^\\d]*([\\d]+)'\n",
    "match5=re.findall(patternage,text)\n",
    "match5"
   ]
  },
  {
   "cell_type": "code",
   "execution_count": 79,
   "id": "53144692",
   "metadata": {},
   "outputs": [
    {
     "data": {
      "text/plain": [
       "'Elon Reeve Musk'"
      ]
     },
     "execution_count": 79,
     "metadata": {},
     "output_type": "execute_result"
    }
   ],
   "source": [
    "pattern_name= 'Born(.*[a-zA-z]*)\\n'\n",
    "match=re.findall(pattern_name,text)\n",
    "match[0].strip()"
   ]
  },
  {
   "cell_type": "code",
   "execution_count": 78,
   "id": "aa621f4a",
   "metadata": {},
   "outputs": [
    {
     "data": {
      "text/plain": [
       "'Elon Reeve Musk'"
      ]
     },
     "execution_count": 78,
     "metadata": {},
     "output_type": "execute_result"
    }
   ],
   "source": [
    "pattern_name= 'Born(.*)\\n'\n",
    "match=re.findall(pattern_name,text)\n",
    "match[0].strip()"
   ]
  },
  {
   "cell_type": "code",
   "execution_count": 102,
   "id": "3d46be8c",
   "metadata": {},
   "outputs": [
    {
     "data": {
      "text/plain": [
       "['June 28, 1971 ']"
      ]
     },
     "execution_count": 102,
     "metadata": {},
     "output_type": "execute_result"
    }
   ],
   "source": [
    "pattern_birthdate='Born.*\\n(.*)\\('\n",
    "match=re.findall(pattern_birthdate,text)\n",
    "match"
   ]
  },
  {
   "cell_type": "code",
   "execution_count": 109,
   "id": "7e0e9b98",
   "metadata": {},
   "outputs": [
    {
     "data": {
      "text/plain": [
       "['Pretoria, Transvaal']"
      ]
     },
     "execution_count": 109,
     "metadata": {},
     "output_type": "execute_result"
    }
   ],
   "source": [
    "pattern_birthplace='Born.*\\n.*\\n(.*)\\,'\n",
    "match=re.findall(pattern_birthplace,text)\n",
    "match"
   ]
  },
  {
   "cell_type": "markdown",
   "id": "e6ab136e",
   "metadata": {},
   "source": [
    "# Regex exercise"
   ]
  },
  {
   "cell_type": "code",
   "execution_count": 3,
   "id": "1e99a53f",
   "metadata": {},
   "outputs": [],
   "source": [
    "text1 = '''\n",
    "Follow our leader Elon musk on twitter here: https://twitter.com/elonmusk, more information \n",
    "on Tesla's products can be found at https://www.tesla.com/. Also here are leading influencers \n",
    "for tesla related news,\n",
    "https://twitter.com/teslarati\n",
    "https://twitter.com/dummy_tesla\n",
    "https://twitter.com/dummy_2_tesla\n",
    "'''"
   ]
  },
  {
   "cell_type": "markdown",
   "id": "1e7ce2c7",
   "metadata": {},
   "source": [
    "# 1. Extract all twitter handles from following text. Twitter handle is the text that appears after https://twitter.com/ and is a single word. Also it contains only alpha numeric characters i.e. A-Z a-z , o to 9 and underscore _"
   ]
  },
  {
   "cell_type": "code",
   "execution_count": 41,
   "id": "b6e17e38",
   "metadata": {},
   "outputs": [
    {
     "data": {
      "text/plain": [
       "['elonmusk', 'teslarati', 'dummy_tesla', 'dummy_2_tesla']"
      ]
     },
     "execution_count": 41,
     "metadata": {},
     "output_type": "execute_result"
    }
   ],
   "source": [
    "pattern='https://twitter.com/([a-zA-Z0-9_]+)'\n",
    "match=re.findall(pattern,text1)\n",
    "match"
   ]
  },
  {
   "cell_type": "markdown",
   "id": "6b40f80f",
   "metadata": {},
   "source": [
    "# 2. Extract Concentration Risk Types. It will be a text that appears after \"Concentration Risk:\", In below example, your regex should extract these two strings\n",
    "\n",
    "(1) Credit Risk\n",
    "\n",
    "(2) Supply Risk"
   ]
  },
  {
   "cell_type": "code",
   "execution_count": 51,
   "id": "4db92019",
   "metadata": {},
   "outputs": [],
   "source": [
    "text2 = '''\n",
    "Concentration of Risk: Credit Risk\n",
    "Financial instruments that potentially subject us to a concentration of credit risk consist of cash, cash equivalents, marketable securities,\n",
    "restricted cash, accounts receivable, convertible note hedges, and interest rate swaps. Our cash balances are primarily invested in money market funds\n",
    "or on deposit at high credit quality financial institutions in the U.S. These deposits are typically in excess of insured limits. As of September 30, 2021\n",
    "and December 31, 2020, no entity represented 10% or more of our total accounts receivable balance. The risk of concentration for our convertible note\n",
    "hedges and interest rate swaps is mitigated by transacting with several highly-rated multinational banks.\n",
    "Concentration of Risk: Supply Risk\n",
    "We are dependent on our suppliers, including single source suppliers, and the inability of these suppliers to deliver necessary components of our\n",
    "products in a timely manner at prices, quality levels and volumes acceptable to us, or our inability to efficiently manage these components from these\n",
    "suppliers, could have a material adverse effect on our business, prospects, financial condition and operating results.\n",
    "'''"
   ]
  },
  {
   "cell_type": "code",
   "execution_count": 66,
   "id": "2962a2d2",
   "metadata": {},
   "outputs": [
    {
     "data": {
      "text/plain": [
       "[' Credit Risk', ' Supply Risk']"
      ]
     },
     "execution_count": 66,
     "metadata": {},
     "output_type": "execute_result"
    }
   ],
   "source": [
    "pattern='Concentration of Risk:(.*)'\n",
    "match=re.findall(pattern,text2)\n",
    "match"
   ]
  },
  {
   "cell_type": "markdown",
   "id": "5ad7dbe2",
   "metadata": {},
   "source": [
    "# 3. Companies in europe reports their financial numbers of semi annual basis and you can have a document like this. To extract quarterly and semi annual period you can use a regex as shown below\n",
    "Hint: you need to use (?:) here to match everything enclosed"
   ]
  },
  {
   "cell_type": "code",
   "execution_count": 77,
   "id": "1d886547",
   "metadata": {},
   "outputs": [],
   "source": [
    "text3 = '''\n",
    "Tesla's gross cost of operating lease vehicles in FY2021 Q1 was $4.85 billion.\n",
    "BMW's gross cost of operating vehicles in FY2021 S1 was $8 billion.\n",
    "'''"
   ]
  },
  {
   "cell_type": "markdown",
   "id": "c9cc350f",
   "metadata": {},
   "source": [
    "# \\s-> single whitespace character\n",
    "# +-> one or more characters"
   ]
  },
  {
   "cell_type": "code",
   "execution_count": 94,
   "id": "c519fc69",
   "metadata": {},
   "outputs": [
    {
     "data": {
      "text/plain": [
       "[' Q1', ' S1']"
      ]
     },
     "execution_count": 94,
     "metadata": {},
     "output_type": "execute_result"
    }
   ],
   "source": [
    "pattern='FY2021(\\s[A-Z0-9]+)'\n",
    "match=re.findall(pattern,text3)\n",
    "match"
   ]
  }
 ],
 "metadata": {
  "kernelspec": {
   "display_name": "Python 3 (ipykernel)",
   "language": "python",
   "name": "python3"
  },
  "language_info": {
   "codemirror_mode": {
    "name": "ipython",
    "version": 3
   },
   "file_extension": ".py",
   "mimetype": "text/x-python",
   "name": "python",
   "nbconvert_exporter": "python",
   "pygments_lexer": "ipython3",
   "version": "3.11.7"
  }
 },
 "nbformat": 4,
 "nbformat_minor": 5
}
