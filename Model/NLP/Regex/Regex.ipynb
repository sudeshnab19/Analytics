{
 "cells": [
  {
   "cell_type": "markdown",
   "id": "0558d358",
   "metadata": {},
   "source": [
    "# Regular Expression check regex101.com"
   ]
  },
  {
   "cell_type": "code",
   "execution_count": 17,
   "id": "91c839c3",
   "metadata": {},
   "outputs": [],
   "source": [
    "import re"
   ]
  },
  {
   "cell_type": "code",
   "execution_count": 35,
   "id": "c72dc9bb",
   "metadata": {},
   "outputs": [],
   "source": [
    "chat1='codebasics: Hello, I am having an issue with my order xyz@abc.com, 1245789034'\n",
    "chat2='codebasics: I have a problem with my order number (412)-889-9123, 1245789034'\n",
    "chat3='sudeshnab19@gmail.com'"
   ]
  },
  {
   "cell_type": "code",
   "execution_count": 25,
   "id": "1c3acdd9",
   "metadata": {},
   "outputs": [
    {
     "data": {
      "text/plain": [
       "['(412)-889-9123', '1245789034']"
      ]
     },
     "execution_count": 25,
     "metadata": {},
     "output_type": "execute_result"
    }
   ],
   "source": [
    "pattern='\\d{10}|\\(\\d{3}\\)-\\d{3}-\\d{4}'\n",
    "\n",
    "matches=re.findall(pattern,chat2)\n",
    "matches"
   ]
  },
  {
   "cell_type": "code",
   "execution_count": 31,
   "id": "65b35637",
   "metadata": {},
   "outputs": [
    {
     "data": {
      "text/plain": [
       "['xyz@abc.com']"
      ]
     },
     "execution_count": 31,
     "metadata": {},
     "output_type": "execute_result"
    }
   ],
   "source": [
    "patternmail='[a-z]{3,20}\\@[a-z]{3,10}\\.[a-z]{3}'\n",
    "match=re.findall(patternmail,chat1)\n",
    "match"
   ]
  },
  {
   "cell_type": "markdown",
   "id": "e529d7e8",
   "metadata": {},
   "source": [
    "# How the regex pattern works ? Let's decode below code\n",
    "\n",
    "# [a-z]{3,20}-> minimum 3 or maximum 20 characters will be between a to z\n",
    "# \\d{2}-> exactly 2 digits between o to 9\n",
    "# \\@-> show @\n",
    "# [a-z]{3,10}-> minimum 3 or maximum 10 characters will be between a to z\n",
    "# \\.-> show .\n",
    "# [a-z]{3}-> exactly 3 characters between a to z "
   ]
  },
  {
   "cell_type": "code",
   "execution_count": 36,
   "id": "eaa95c7b",
   "metadata": {},
   "outputs": [
    {
     "data": {
      "text/plain": [
       "['sudeshnab19@gmail.com']"
      ]
     },
     "execution_count": 36,
     "metadata": {},
     "output_type": "execute_result"
    }
   ],
   "source": [
    "patternmail='[a-z]{3,20}\\d{2}\\@[a-z]{3,10}\\.[a-z]{3}'\n",
    "match1=re.findall(patternmail,chat3)\n",
    "match1"
   ]
  },
  {
   "cell_type": "markdown",
   "id": "f23161f2",
   "metadata": {},
   "source": [
    "# [a-zA-Z0-9]* -> depicts word with lower case, upper case and 0 to 9 digits and * represents 0 or more sequence of characters"
   ]
  },
  {
   "cell_type": "code",
   "execution_count": 37,
   "id": "b4b7f844",
   "metadata": {},
   "outputs": [
    {
     "data": {
      "text/plain": [
       "['sudeshnab19@gmail.com']"
      ]
     },
     "execution_count": 37,
     "metadata": {},
     "output_type": "execute_result"
    }
   ],
   "source": [
    "patternmail='[a-zA-Z0-9]*\\@[a-z]*\\.[a-z]*'\n",
    "match1=re.findall(patternmail,chat3)\n",
    "match1"
   ]
  },
  {
   "cell_type": "code",
   "execution_count": 38,
   "id": "2c86c634",
   "metadata": {},
   "outputs": [],
   "source": [
    "chat4='codebasics: Hello, I am having an issue with my order # 412889912'"
   ]
  },
  {
   "cell_type": "markdown",
   "id": "27bfc6f0",
   "metadata": {},
   "source": [
    "# [^\\d]-> depicts any character other than digit \n",
    "# ([\\d]*)-> bracket signifies we are grouping the number part only from the serach"
   ]
  },
  {
   "cell_type": "code",
   "execution_count": 40,
   "id": "bd27d118",
   "metadata": {},
   "outputs": [
    {
     "data": {
      "text/plain": [
       "['412889912']"
      ]
     },
     "execution_count": 40,
     "metadata": {},
     "output_type": "execute_result"
    }
   ],
   "source": [
    "patternorder='order[^\\d]*([\\d]*)'\n",
    "\n",
    "match4=re.findall(patternorder, chat4)\n",
    "match4"
   ]
  },
  {
   "cell_type": "markdown",
   "id": "22b90b69",
   "metadata": {},
   "source": [
    "# Information Extraction"
   ]
  },
  {
   "cell_type": "code",
   "execution_count": 44,
   "id": "e8234c60",
   "metadata": {},
   "outputs": [],
   "source": [
    "text='''\n",
    "Born\tElon Reeve Musk\n",
    "June 28, 1971 (age 50)\n",
    "Pretoria, Transvaal, South Africa\n",
    "Citizenship\t\n",
    "South Africa (1971–present)\n",
    "Canada (1971–present)\n",
    "United States (2002–present)\n",
    "Education\tUniversity of Pennsylvania (BS, BA)\n",
    "Title\t\n",
    "Founder, CEO and Chief Engineer of SpaceX\n",
    "CEO and product architect of Tesla, Inc.\n",
    "Founder of The Boring Company and X.com (now part of PayPal)\n",
    "Co-founder of Neuralink, OpenAI, and Zip2\n",
    "Spouse(s)\t\n",
    "Justine Wilson\n",
    "​\n",
    "​(m. 2000; div. 2008)​\n",
    "Talulah Riley\n",
    "​\n",
    "​(m. 2010; div. 2012)​\n",
    "​\n",
    "​(m. 2013; div. 2016)\n",
    "'''"
   ]
  },
  {
   "cell_type": "code",
   "execution_count": 54,
   "id": "a90ff9f0",
   "metadata": {},
   "outputs": [
    {
     "data": {
      "text/plain": [
       "['50']"
      ]
     },
     "execution_count": 54,
     "metadata": {},
     "output_type": "execute_result"
    }
   ],
   "source": [
    "patternage= 'age[^\\d]*([\\d]+)'\n",
    "match5=re.findall(patternage,text)\n",
    "match5"
   ]
  },
  {
   "cell_type": "code",
   "execution_count": 79,
   "id": "53144692",
   "metadata": {},
   "outputs": [
    {
     "data": {
      "text/plain": [
       "'Elon Reeve Musk'"
      ]
     },
     "execution_count": 79,
     "metadata": {},
     "output_type": "execute_result"
    }
   ],
   "source": [
    "pattern_name= 'Born(.*[a-zA-z]*)\\n'\n",
    "match=re.findall(pattern_name,text)\n",
    "match[0].strip()"
   ]
  },
  {
   "cell_type": "code",
   "execution_count": 78,
   "id": "aa621f4a",
   "metadata": {},
   "outputs": [
    {
     "data": {
      "text/plain": [
       "'Elon Reeve Musk'"
      ]
     },
     "execution_count": 78,
     "metadata": {},
     "output_type": "execute_result"
    }
   ],
   "source": [
    "pattern_name= 'Born(.*)\\n'\n",
    "match=re.findall(pattern_name,text)\n",
    "match[0].strip()"
   ]
  },
  {
   "cell_type": "code",
   "execution_count": 102,
   "id": "3d46be8c",
   "metadata": {},
   "outputs": [
    {
     "data": {
      "text/plain": [
       "['June 28, 1971 ']"
      ]
     },
     "execution_count": 102,
     "metadata": {},
     "output_type": "execute_result"
    }
   ],
   "source": [
    "pattern_birthdate='Born.*\\n(.*)\\('\n",
    "match=re.findall(pattern_birthdate,text)\n",
    "match"
   ]
  },
  {
   "cell_type": "code",
   "execution_count": 109,
   "id": "7e0e9b98",
   "metadata": {},
   "outputs": [
    {
     "data": {
      "text/plain": [
       "['Pretoria, Transvaal']"
      ]
     },
     "execution_count": 109,
     "metadata": {},
     "output_type": "execute_result"
    }
   ],
   "source": [
    "pattern_birthplace='Born.*\\n.*\\n(.*)\\,'\n",
    "match=re.findall(pattern_birthplace,text)\n",
    "match"
   ]
  },
  {
   "cell_type": "code",
   "execution_count": null,
   "id": "423be3e5",
   "metadata": {},
   "outputs": [],
   "source": []
  }
 ],
 "metadata": {
  "kernelspec": {
   "display_name": "Python 3 (ipykernel)",
   "language": "python",
   "name": "python3"
  },
  "language_info": {
   "codemirror_mode": {
    "name": "ipython",
    "version": 3
   },
   "file_extension": ".py",
   "mimetype": "text/x-python",
   "name": "python",
   "nbconvert_exporter": "python",
   "pygments_lexer": "ipython3",
   "version": "3.11.7"
  }
 },
 "nbformat": 4,
 "nbformat_minor": 5
}
